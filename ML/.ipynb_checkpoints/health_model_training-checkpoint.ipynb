{
 "cells": [
  {
   "cell_type": "code",
   "execution_count": null,
   "id": "67ae7483-3f2b-437f-800a-81ae85ce7df5",
   "metadata": {},
   "outputs": [],
   "source": [
    "# 📓 Cell 1: Import libraries\n",
    "import pandas as pd\n",
    "from sklearn.model_selection import train_test_split\n",
    "from sklearn.ensemble import RandomForestClassifier\n",
    "from sklearn.metrics import classification_report, confusion_matrix\n",
    "import matplotlib.pyplot as plt\n",
    "import seaborn as sns\n",
    "import joblib\n",
    "\n"
   ]
  },
  {
   "cell_type": "code",
   "execution_count": null,
   "id": "bec684f8-15e0-44ff-8c14-a667f9145763",
   "metadata": {},
   "outputs": [],
   "source": [
    "# 📓 Cell 2: Load your data\n",
    "df = pd.read_csv(\"health_data.csv\")\n",
    "df.head()\n"
   ]
  },
  {
   "cell_type": "code",
   "execution_count": null,
   "id": "2f070c88-06fb-47e9-b76b-6af01472871f",
   "metadata": {},
   "outputs": [],
   "source": [
    "# 📓 Cell 3: Check for missing values\n",
    "df.isnull().sum()\n"
   ]
  },
  {
   "cell_type": "code",
   "execution_count": null,
   "id": "b94b6da0-7659-406f-95b2-cd4f73494b22",
   "metadata": {},
   "outputs": [],
   "source": [
    "# 📓 Cell 4: Encode label column\n",
    "# Example: Healthy = 0, Fever = 1, Hypoxia = 2, Unwell = 3\n",
    "\n",
    "label_mapping = {'Healthy': 0, 'Fever': 1, 'Hypoxia': 2, 'Unwell': 3}\n",
    "df['Label'] = df['Label'].map(label_mapping)\n",
    "\n",
    "df.head()\n"
   ]
  },
  {
   "cell_type": "code",
   "execution_count": null,
   "id": "c8b8dab9-ad61-454d-8bd0-037b3f1c4a1d",
   "metadata": {},
   "outputs": [],
   "source": [
    "# 📓 Cell 5: Separate features and labels\n",
    "X = df[['HeartRate', 'SpO2', 'Temperature', 'ECG']]\n",
    "y = df['Label']\n"
   ]
  },
  {
   "cell_type": "code",
   "execution_count": null,
   "id": "b7378ccf-b4a2-40d8-b1dd-477694f59e57",
   "metadata": {},
   "outputs": [],
   "source": [
    "# 📓 Cell 6: Split into training and test data\n",
    "X_train, X_test, y_train, y_test = train_test_split(\n",
    "    X, y, test_size=0.2, random_state=42)\n"
   ]
  },
  {
   "cell_type": "code",
   "execution_count": null,
   "id": "77e3890a-d8b9-422c-a96a-37fbb0639584",
   "metadata": {},
   "outputs": [],
   "source": [
    "# 📓 Cell 7: Train a Random Forest Classifier\n",
    "clf = RandomForestClassifier(n_estimators=100, random_state=42)\n",
    "clf.fit(X_train, y_train)\n"
   ]
  },
  {
   "cell_type": "code",
   "execution_count": null,
   "id": "49baab81-6e2e-4d62-b5cb-445cd3026678",
   "metadata": {},
   "outputs": [],
   "source": [
    "# 📓 Cell 8: Evaluate model\n",
    "y_pred = clf.predict(X_test)\n",
    "print(\"Classification Report:\\n\")\n",
    "print(classification_report(y_test, y_pred))\n"
   ]
  },
  {
   "cell_type": "code",
   "execution_count": null,
   "id": "8253fa82-1472-4fa8-b8a6-7e59a29268f0",
   "metadata": {},
   "outputs": [],
   "source": [
    "# 📓 Cell 9: Confusion Matrix\n",
    "plt.figure(figsize=(6, 4))\n",
    "sns.heatmap(confusion_matrix(y_test, y_pred), annot=True, fmt=\"d\", cmap=\"Blues\",\n",
    "            xticklabels=label_mapping.keys(), yticklabels=label_mapping.keys())\n",
    "plt.title(\"Confusion Matrix\")\n",
    "plt.xlabel(\"Predicted\")\n",
    "plt.ylabel(\"Actual\")\n",
    "plt.tight_layout()\n",
    "plt.show()\n"
   ]
  },
  {
   "cell_type": "code",
   "execution_count": null,
   "id": "34aeb0f0-5d64-4b96-81ee-dc4ee110c633",
   "metadata": {},
   "outputs": [],
   "source": [
    "# 📓 Cell 10: Save model\n",
    "joblib.dump(clf, \"health_rf_model.pkl\")\n",
    "print(\"Model saved as 'health_rf_model.pkl'\")\n"
   ]
  },
  {
   "cell_type": "code",
   "execution_count": null,
   "id": "fb2495c4-7b46-4784-a3d1-280310c888a8",
   "metadata": {},
   "outputs": [],
   "source": [
    "# 📓 Cell 11: (Optional) Test prediction with manual input\n",
    "sample = [[100, 95, 36.7, 500]]  # HR, SpO2, Temp, ECG\n",
    "predicted_class = clf.predict(sample)[0]\n",
    "label_reverse = {v: k for k, v in label_mapping.items()}\n",
    "print(\"Predicted Health Status:\", label_reverse[predicted_class])\n"
   ]
  }
 ],
 "metadata": {
  "kernelspec": {
   "display_name": "Python [conda env:base] *",
   "language": "python",
   "name": "conda-base-py"
  },
  "language_info": {
   "codemirror_mode": {
    "name": "ipython",
    "version": 3
   },
   "file_extension": ".py",
   "mimetype": "text/x-python",
   "name": "python",
   "nbconvert_exporter": "python",
   "pygments_lexer": "ipython3",
   "version": "3.12.7"
  }
 },
 "nbformat": 4,
 "nbformat_minor": 5
}
