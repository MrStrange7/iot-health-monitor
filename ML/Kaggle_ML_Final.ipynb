{
 "cells": [
  {
   "cell_type": "markdown",
   "id": "740eee58",
   "metadata": {},
   "source": [
    "# Complete ECG Heartbeat Classification with a 1D-CNN\n",
    "\n",
    "This notebook contains the complete, end-to-end code for training a 1D Convolutional Neural Network on the MIT-BIH Arrhythmia dataset. It includes all steps from loading the real data to final model evaluation."
   ]
  },
  {
   "cell_type": "markdown",
   "id": "a26f92ba",
   "metadata": {},
   "source": [
    "### Step 1: Import Libraries"
   ]
  },
  {
   "cell_type": "code",
   "execution_count": 3,
   "id": "a66a8874",
   "metadata": {},
   "outputs": [],
   "source": [
    "import numpy as np\n",
    "import pandas as pd\n",
    "from collections import Counter\n",
    "\n",
    "from sklearn.model_selection import train_test_split\n",
    "from sklearn.preprocessing import StandardScaler\n",
    "from sklearn.utils.class_weight import compute_class_weight\n",
    "\n",
    "import tensorflow as tf\n",
    "from tensorflow.keras.models import Sequential\n",
    "from tensorflow.keras.layers import Dense, Dropout, Conv1D, MaxPooling1D, Flatten\n",
    "from tensorflow.keras.callbacks import EarlyStopping, ReduceLROnPlateau"
   ]
  },
  {
   "cell_type": "markdown",
   "id": "dac9262b",
   "metadata": {},
   "source": [
    "### Step 2: Load the Real Kaggle Dataset"
   ]
  },
  {
   "cell_type": "code",
   "execution_count": 6,
   "id": "f18f89a4",
   "metadata": {},
   "outputs": [
    {
     "name": "stdout",
     "output_type": "stream",
     "text": [
      "Successfully loaded 'mitbih_train.csv'\n",
      "\n",
      "Dataset Shape: (87554, 187)\n",
      "Labels Shape: (87554,)\n"
     ]
    }
   ],
   "source": [
    "try:\n",
    "    df = pd.read_csv('mitbih_train.csv', header=None)\n",
    "    print(\"Successfully loaded 'mitbih_train.csv'\")\n",
    "except FileNotFoundError:\n",
    "    print(\"Error: 'mitbih_train.csv' not found. Please ensure it's in the same directory as this notebook.\")\n",
    "    exit()\n",
    "\n",
    "# The last column (187) is the label, the rest are features.\n",
    "X = df.iloc[:, :-1].values\n",
    "y = df.iloc[:, -1].values\n",
    "\n",
    "print(\"\\nDataset Shape:\", X.shape)\n",
    "print(\"Labels Shape:\", y.shape)"
   ]
  },
  {
   "cell_type": "markdown",
   "id": "a94c7aa6",
   "metadata": {},
   "source": [
    "### Step 3: Split and Scale the Data"
   ]
  },
  {
   "cell_type": "code",
   "execution_count": 8,
   "id": "6b7e8cf5",
   "metadata": {},
   "outputs": [
    {
     "name": "stdout",
     "output_type": "stream",
     "text": [
      "Data splitting and scaling complete.\n"
     ]
    }
   ],
   "source": [
    "X_train, X_test, y_train, y_test = train_test_split(\n",
    "    X, y, test_size=0.2, random_state=42, stratify=y\n",
    ")\n",
    "\n",
    "scaler = StandardScaler()\n",
    "X_train_scaled = scaler.fit_transform(X_train)\n",
    "X_test_scaled = scaler.transform(X_test)\n",
    "\n",
    "print(\"Data splitting and scaling complete.\")"
   ]
  },
  {
   "cell_type": "markdown",
   "id": "eb416b52",
   "metadata": {},
   "source": [
    "### Step 4: Reshape Data for the CNN\n",
    "\n",
    "A 1D-CNN expects a 3D input of shape `(samples, timesteps, channels)`."
   ]
  },
  {
   "cell_type": "code",
   "execution_count": 11,
   "id": "b085cfdb",
   "metadata": {},
   "outputs": [
    {
     "name": "stdout",
     "output_type": "stream",
     "text": [
      "Reshaped training data shape: (70043, 187, 1)\n"
     ]
    }
   ],
   "source": [
    "X_train_reshaped = np.expand_dims(X_train_scaled, axis=-1)\n",
    "X_test_reshaped = np.expand_dims(X_test_scaled, axis=-1)\n",
    "\n",
    "print(\"Reshaped training data shape:\", X_train_reshaped.shape)"
   ]
  },
  {
   "cell_type": "markdown",
   "id": "93c17197",
   "metadata": {},
   "source": [
    "### Step 5: Prepare for Imbalanced Data\n",
    "\n",
    "We calculate class weights to ensure the model pays more attention to the less frequent heartbeat categories."
   ]
  },
  {
   "cell_type": "code",
   "execution_count": 15,
   "id": "281d4e18",
   "metadata": {},
   "outputs": [
    {
     "name": "stdout",
     "output_type": "stream",
     "text": [
      "Class Weights Dictionary: {0: 0.2416234023837039, 1: 7.878852643419573, 2: 3.0256155507559397, 3: 27.307212475633527, 4: 2.722759961127308}\n"
     ]
    }
   ],
   "source": [
    "class_weights = compute_class_weight(\n",
    "    class_weight='balanced',\n",
    "    classes=np.unique(y_train),\n",
    "    y=y_train\n",
    ")\n",
    "class_weights_dict = dict(enumerate(class_weights))\n",
    "\n",
    "print(\"Class Weights Dictionary:\", class_weights_dict)"
   ]
  },
  {
   "cell_type": "markdown",
   "id": "59fd0522",
   "metadata": {},
   "source": [
    "### Step 6: Define Callbacks"
   ]
  },
  {
   "cell_type": "code",
   "execution_count": 18,
   "id": "62cc4c51",
   "metadata": {},
   "outputs": [],
   "source": [
    "early_stop = EarlyStopping(monitor='val_loss', patience=5, restore_best_weights=True)\n",
    "\n",
    "learning_rate_reduction = ReduceLROnPlateau(\n",
    "    monitor='val_loss',\n",
    "    patience=3, \n",
    "    verbose=1,\n",
    "    factor=0.5, \n",
    "    min_lr=0.00001\n",
    ")\n",
    "\n",
    "callbacks_list = [early_stop, learning_rate_reduction]"
   ]
  },
  {
   "cell_type": "markdown",
   "id": "277f8446",
   "metadata": {},
   "source": [
    "### Step 7: Build the 1D-CNN Model"
   ]
  },
  {
   "cell_type": "code",
   "execution_count": 21,
   "id": "d10f9bab",
   "metadata": {},
   "outputs": [
    {
     "name": "stderr",
     "output_type": "stream",
     "text": [
      "D:\\Anaconda\\Anaconda\\Lib\\site-packages\\keras\\src\\layers\\convolutional\\base_conv.py:113: UserWarning: Do not pass an `input_shape`/`input_dim` argument to a layer. When using Sequential models, prefer using an `Input(shape)` object as the first layer in the model instead.\n",
      "  super().__init__(activity_regularizer=activity_regularizer, **kwargs)\n"
     ]
    },
    {
     "data": {
      "text/html": [
       "<pre style=\"white-space:pre;overflow-x:auto;line-height:normal;font-family:Menlo,'DejaVu Sans Mono',consolas,'Courier New',monospace\"><span style=\"font-weight: bold\">Model: \"sequential\"</span>\n",
       "</pre>\n"
      ],
      "text/plain": [
       "\u001b[1mModel: \"sequential\"\u001b[0m\n"
      ]
     },
     "metadata": {},
     "output_type": "display_data"
    },
    {
     "data": {
      "text/html": [
       "<pre style=\"white-space:pre;overflow-x:auto;line-height:normal;font-family:Menlo,'DejaVu Sans Mono',consolas,'Courier New',monospace\">┏━━━━━━━━━━━━━━━━━━━━━━━━━━━━━━━━━━━━━━┳━━━━━━━━━━━━━━━━━━━━━━━━━━━━━┳━━━━━━━━━━━━━━━━━┓\n",
       "┃<span style=\"font-weight: bold\"> Layer (type)                         </span>┃<span style=\"font-weight: bold\"> Output Shape                </span>┃<span style=\"font-weight: bold\">         Param # </span>┃\n",
       "┡━━━━━━━━━━━━━━━━━━━━━━━━━━━━━━━━━━━━━━╇━━━━━━━━━━━━━━━━━━━━━━━━━━━━━╇━━━━━━━━━━━━━━━━━┩\n",
       "│ conv1d (<span style=\"color: #0087ff; text-decoration-color: #0087ff\">Conv1D</span>)                      │ (<span style=\"color: #00d7ff; text-decoration-color: #00d7ff\">None</span>, <span style=\"color: #00af00; text-decoration-color: #00af00\">187</span>, <span style=\"color: #00af00; text-decoration-color: #00af00\">64</span>)             │             <span style=\"color: #00af00; text-decoration-color: #00af00\">448</span> │\n",
       "├──────────────────────────────────────┼─────────────────────────────┼─────────────────┤\n",
       "│ max_pooling1d (<span style=\"color: #0087ff; text-decoration-color: #0087ff\">MaxPooling1D</span>)         │ (<span style=\"color: #00d7ff; text-decoration-color: #00d7ff\">None</span>, <span style=\"color: #00af00; text-decoration-color: #00af00\">62</span>, <span style=\"color: #00af00; text-decoration-color: #00af00\">64</span>)              │               <span style=\"color: #00af00; text-decoration-color: #00af00\">0</span> │\n",
       "├──────────────────────────────────────┼─────────────────────────────┼─────────────────┤\n",
       "│ dropout (<span style=\"color: #0087ff; text-decoration-color: #0087ff\">Dropout</span>)                    │ (<span style=\"color: #00d7ff; text-decoration-color: #00d7ff\">None</span>, <span style=\"color: #00af00; text-decoration-color: #00af00\">62</span>, <span style=\"color: #00af00; text-decoration-color: #00af00\">64</span>)              │               <span style=\"color: #00af00; text-decoration-color: #00af00\">0</span> │\n",
       "├──────────────────────────────────────┼─────────────────────────────┼─────────────────┤\n",
       "│ conv1d_1 (<span style=\"color: #0087ff; text-decoration-color: #0087ff\">Conv1D</span>)                    │ (<span style=\"color: #00d7ff; text-decoration-color: #00d7ff\">None</span>, <span style=\"color: #00af00; text-decoration-color: #00af00\">62</span>, <span style=\"color: #00af00; text-decoration-color: #00af00\">128</span>)             │          <span style=\"color: #00af00; text-decoration-color: #00af00\">24,704</span> │\n",
       "├──────────────────────────────────────┼─────────────────────────────┼─────────────────┤\n",
       "│ max_pooling1d_1 (<span style=\"color: #0087ff; text-decoration-color: #0087ff\">MaxPooling1D</span>)       │ (<span style=\"color: #00d7ff; text-decoration-color: #00d7ff\">None</span>, <span style=\"color: #00af00; text-decoration-color: #00af00\">31</span>, <span style=\"color: #00af00; text-decoration-color: #00af00\">128</span>)             │               <span style=\"color: #00af00; text-decoration-color: #00af00\">0</span> │\n",
       "├──────────────────────────────────────┼─────────────────────────────┼─────────────────┤\n",
       "│ dropout_1 (<span style=\"color: #0087ff; text-decoration-color: #0087ff\">Dropout</span>)                  │ (<span style=\"color: #00d7ff; text-decoration-color: #00d7ff\">None</span>, <span style=\"color: #00af00; text-decoration-color: #00af00\">31</span>, <span style=\"color: #00af00; text-decoration-color: #00af00\">128</span>)             │               <span style=\"color: #00af00; text-decoration-color: #00af00\">0</span> │\n",
       "├──────────────────────────────────────┼─────────────────────────────┼─────────────────┤\n",
       "│ flatten (<span style=\"color: #0087ff; text-decoration-color: #0087ff\">Flatten</span>)                    │ (<span style=\"color: #00d7ff; text-decoration-color: #00d7ff\">None</span>, <span style=\"color: #00af00; text-decoration-color: #00af00\">3968</span>)                │               <span style=\"color: #00af00; text-decoration-color: #00af00\">0</span> │\n",
       "├──────────────────────────────────────┼─────────────────────────────┼─────────────────┤\n",
       "│ dense (<span style=\"color: #0087ff; text-decoration-color: #0087ff\">Dense</span>)                        │ (<span style=\"color: #00d7ff; text-decoration-color: #00d7ff\">None</span>, <span style=\"color: #00af00; text-decoration-color: #00af00\">128</span>)                 │         <span style=\"color: #00af00; text-decoration-color: #00af00\">508,032</span> │\n",
       "├──────────────────────────────────────┼─────────────────────────────┼─────────────────┤\n",
       "│ dropout_2 (<span style=\"color: #0087ff; text-decoration-color: #0087ff\">Dropout</span>)                  │ (<span style=\"color: #00d7ff; text-decoration-color: #00d7ff\">None</span>, <span style=\"color: #00af00; text-decoration-color: #00af00\">128</span>)                 │               <span style=\"color: #00af00; text-decoration-color: #00af00\">0</span> │\n",
       "├──────────────────────────────────────┼─────────────────────────────┼─────────────────┤\n",
       "│ dense_1 (<span style=\"color: #0087ff; text-decoration-color: #0087ff\">Dense</span>)                      │ (<span style=\"color: #00d7ff; text-decoration-color: #00d7ff\">None</span>, <span style=\"color: #00af00; text-decoration-color: #00af00\">5</span>)                   │             <span style=\"color: #00af00; text-decoration-color: #00af00\">645</span> │\n",
       "└──────────────────────────────────────┴─────────────────────────────┴─────────────────┘\n",
       "</pre>\n"
      ],
      "text/plain": [
       "┏━━━━━━━━━━━━━━━━━━━━━━━━━━━━━━━━━━━━━━┳━━━━━━━━━━━━━━━━━━━━━━━━━━━━━┳━━━━━━━━━━━━━━━━━┓\n",
       "┃\u001b[1m \u001b[0m\u001b[1mLayer (type)                        \u001b[0m\u001b[1m \u001b[0m┃\u001b[1m \u001b[0m\u001b[1mOutput Shape               \u001b[0m\u001b[1m \u001b[0m┃\u001b[1m \u001b[0m\u001b[1m        Param #\u001b[0m\u001b[1m \u001b[0m┃\n",
       "┡━━━━━━━━━━━━━━━━━━━━━━━━━━━━━━━━━━━━━━╇━━━━━━━━━━━━━━━━━━━━━━━━━━━━━╇━━━━━━━━━━━━━━━━━┩\n",
       "│ conv1d (\u001b[38;5;33mConv1D\u001b[0m)                      │ (\u001b[38;5;45mNone\u001b[0m, \u001b[38;5;34m187\u001b[0m, \u001b[38;5;34m64\u001b[0m)             │             \u001b[38;5;34m448\u001b[0m │\n",
       "├──────────────────────────────────────┼─────────────────────────────┼─────────────────┤\n",
       "│ max_pooling1d (\u001b[38;5;33mMaxPooling1D\u001b[0m)         │ (\u001b[38;5;45mNone\u001b[0m, \u001b[38;5;34m62\u001b[0m, \u001b[38;5;34m64\u001b[0m)              │               \u001b[38;5;34m0\u001b[0m │\n",
       "├──────────────────────────────────────┼─────────────────────────────┼─────────────────┤\n",
       "│ dropout (\u001b[38;5;33mDropout\u001b[0m)                    │ (\u001b[38;5;45mNone\u001b[0m, \u001b[38;5;34m62\u001b[0m, \u001b[38;5;34m64\u001b[0m)              │               \u001b[38;5;34m0\u001b[0m │\n",
       "├──────────────────────────────────────┼─────────────────────────────┼─────────────────┤\n",
       "│ conv1d_1 (\u001b[38;5;33mConv1D\u001b[0m)                    │ (\u001b[38;5;45mNone\u001b[0m, \u001b[38;5;34m62\u001b[0m, \u001b[38;5;34m128\u001b[0m)             │          \u001b[38;5;34m24,704\u001b[0m │\n",
       "├──────────────────────────────────────┼─────────────────────────────┼─────────────────┤\n",
       "│ max_pooling1d_1 (\u001b[38;5;33mMaxPooling1D\u001b[0m)       │ (\u001b[38;5;45mNone\u001b[0m, \u001b[38;5;34m31\u001b[0m, \u001b[38;5;34m128\u001b[0m)             │               \u001b[38;5;34m0\u001b[0m │\n",
       "├──────────────────────────────────────┼─────────────────────────────┼─────────────────┤\n",
       "│ dropout_1 (\u001b[38;5;33mDropout\u001b[0m)                  │ (\u001b[38;5;45mNone\u001b[0m, \u001b[38;5;34m31\u001b[0m, \u001b[38;5;34m128\u001b[0m)             │               \u001b[38;5;34m0\u001b[0m │\n",
       "├──────────────────────────────────────┼─────────────────────────────┼─────────────────┤\n",
       "│ flatten (\u001b[38;5;33mFlatten\u001b[0m)                    │ (\u001b[38;5;45mNone\u001b[0m, \u001b[38;5;34m3968\u001b[0m)                │               \u001b[38;5;34m0\u001b[0m │\n",
       "├──────────────────────────────────────┼─────────────────────────────┼─────────────────┤\n",
       "│ dense (\u001b[38;5;33mDense\u001b[0m)                        │ (\u001b[38;5;45mNone\u001b[0m, \u001b[38;5;34m128\u001b[0m)                 │         \u001b[38;5;34m508,032\u001b[0m │\n",
       "├──────────────────────────────────────┼─────────────────────────────┼─────────────────┤\n",
       "│ dropout_2 (\u001b[38;5;33mDropout\u001b[0m)                  │ (\u001b[38;5;45mNone\u001b[0m, \u001b[38;5;34m128\u001b[0m)                 │               \u001b[38;5;34m0\u001b[0m │\n",
       "├──────────────────────────────────────┼─────────────────────────────┼─────────────────┤\n",
       "│ dense_1 (\u001b[38;5;33mDense\u001b[0m)                      │ (\u001b[38;5;45mNone\u001b[0m, \u001b[38;5;34m5\u001b[0m)                   │             \u001b[38;5;34m645\u001b[0m │\n",
       "└──────────────────────────────────────┴─────────────────────────────┴─────────────────┘\n"
      ]
     },
     "metadata": {},
     "output_type": "display_data"
    },
    {
     "data": {
      "text/html": [
       "<pre style=\"white-space:pre;overflow-x:auto;line-height:normal;font-family:Menlo,'DejaVu Sans Mono',consolas,'Courier New',monospace\"><span style=\"font-weight: bold\"> Total params: </span><span style=\"color: #00af00; text-decoration-color: #00af00\">533,829</span> (2.04 MB)\n",
       "</pre>\n"
      ],
      "text/plain": [
       "\u001b[1m Total params: \u001b[0m\u001b[38;5;34m533,829\u001b[0m (2.04 MB)\n"
      ]
     },
     "metadata": {},
     "output_type": "display_data"
    },
    {
     "data": {
      "text/html": [
       "<pre style=\"white-space:pre;overflow-x:auto;line-height:normal;font-family:Menlo,'DejaVu Sans Mono',consolas,'Courier New',monospace\"><span style=\"font-weight: bold\"> Trainable params: </span><span style=\"color: #00af00; text-decoration-color: #00af00\">533,829</span> (2.04 MB)\n",
       "</pre>\n"
      ],
      "text/plain": [
       "\u001b[1m Trainable params: \u001b[0m\u001b[38;5;34m533,829\u001b[0m (2.04 MB)\n"
      ]
     },
     "metadata": {},
     "output_type": "display_data"
    },
    {
     "data": {
      "text/html": [
       "<pre style=\"white-space:pre;overflow-x:auto;line-height:normal;font-family:Menlo,'DejaVu Sans Mono',consolas,'Courier New',monospace\"><span style=\"font-weight: bold\"> Non-trainable params: </span><span style=\"color: #00af00; text-decoration-color: #00af00\">0</span> (0.00 B)\n",
       "</pre>\n"
      ],
      "text/plain": [
       "\u001b[1m Non-trainable params: \u001b[0m\u001b[38;5;34m0\u001b[0m (0.00 B)\n"
      ]
     },
     "metadata": {},
     "output_type": "display_data"
    }
   ],
   "source": [
    "# Note: The number of output neurons must match the number of classes.\n",
    "num_classes = len(np.unique(y))\n",
    "\n",
    "model = Sequential([\n",
    "    Conv1D(filters=64, kernel_size=6, activation='relu', padding='same', input_shape=(X_train_reshaped.shape[1], 1)),\n",
    "    MaxPooling1D(pool_size=3),\n",
    "    Dropout(0.3),\n",
    "\n",
    "    Conv1D(filters=128, kernel_size=3, activation='relu', padding='same'),\n",
    "    MaxPooling1D(pool_size=2),\n",
    "    Dropout(0.3),\n",
    "\n",
    "    Flatten(),\n",
    "    Dense(128, activation='relu'),\n",
    "    Dropout(0.5),\n",
    "    Dense(num_classes, activation='softmax') # Softmax for multi-class classification\n",
    "])\n",
    "\n",
    "model.compile(optimizer='adam', loss='sparse_categorical_crossentropy', metrics=['accuracy'])\n",
    "\n",
    "model.summary()"
   ]
  },
  {
   "cell_type": "markdown",
   "id": "98777e81",
   "metadata": {},
   "source": [
    "### Step 8: Train the Model"
   ]
  },
  {
   "cell_type": "code",
   "execution_count": 24,
   "id": "17339bc1",
   "metadata": {},
   "outputs": [
    {
     "name": "stdout",
     "output_type": "stream",
     "text": [
      "Epoch 1/50\n",
      "\u001b[1m548/548\u001b[0m \u001b[32m━━━━━━━━━━━━━━━━━━━━\u001b[0m\u001b[37m\u001b[0m \u001b[1m11s\u001b[0m 18ms/step - accuracy: 0.6255 - loss: 0.8719 - val_accuracy: 0.8056 - val_loss: 0.5218 - learning_rate: 0.0010\n",
      "Epoch 2/50\n",
      "\u001b[1m548/548\u001b[0m \u001b[32m━━━━━━━━━━━━━━━━━━━━\u001b[0m\u001b[37m\u001b[0m \u001b[1m11s\u001b[0m 20ms/step - accuracy: 0.7790 - loss: 0.4593 - val_accuracy: 0.8462 - val_loss: 0.4574 - learning_rate: 0.0010\n",
      "Epoch 3/50\n",
      "\u001b[1m548/548\u001b[0m \u001b[32m━━━━━━━━━━━━━━━━━━━━\u001b[0m\u001b[37m\u001b[0m \u001b[1m12s\u001b[0m 21ms/step - accuracy: 0.8174 - loss: 0.3838 - val_accuracy: 0.8798 - val_loss: 0.3769 - learning_rate: 0.0010\n",
      "Epoch 4/50\n",
      "\u001b[1m548/548\u001b[0m \u001b[32m━━━━━━━━━━━━━━━━━━━━\u001b[0m\u001b[37m\u001b[0m \u001b[1m13s\u001b[0m 23ms/step - accuracy: 0.8262 - loss: 0.3516 - val_accuracy: 0.8992 - val_loss: 0.3320 - learning_rate: 0.0010\n",
      "Epoch 5/50\n",
      "\u001b[1m548/548\u001b[0m \u001b[32m━━━━━━━━━━━━━━━━━━━━\u001b[0m\u001b[37m\u001b[0m \u001b[1m21s\u001b[0m 38ms/step - accuracy: 0.8458 - loss: 0.3409 - val_accuracy: 0.9081 - val_loss: 0.2773 - learning_rate: 0.0010\n",
      "Epoch 6/50\n",
      "\u001b[1m548/548\u001b[0m \u001b[32m━━━━━━━━━━━━━━━━━━━━\u001b[0m\u001b[37m\u001b[0m \u001b[1m32s\u001b[0m 58ms/step - accuracy: 0.8621 - loss: 0.2953 - val_accuracy: 0.8990 - val_loss: 0.2875 - learning_rate: 0.0010\n",
      "Epoch 7/50\n",
      "\u001b[1m548/548\u001b[0m \u001b[32m━━━━━━━━━━━━━━━━━━━━\u001b[0m\u001b[37m\u001b[0m \u001b[1m32s\u001b[0m 58ms/step - accuracy: 0.8630 - loss: 0.2745 - val_accuracy: 0.9030 - val_loss: 0.2817 - learning_rate: 0.0010\n",
      "Epoch 8/50\n",
      "\u001b[1m547/548\u001b[0m \u001b[32m━━━━━━━━━━━━━━━━━━━\u001b[0m\u001b[37m━\u001b[0m \u001b[1m0s\u001b[0m 54ms/step - accuracy: 0.8661 - loss: 0.2751\n",
      "Epoch 8: ReduceLROnPlateau reducing learning rate to 0.0005000000237487257.\n",
      "\u001b[1m548/548\u001b[0m \u001b[32m━━━━━━━━━━━━━━━━━━━━\u001b[0m\u001b[37m\u001b[0m \u001b[1m32s\u001b[0m 58ms/step - accuracy: 0.8661 - loss: 0.2751 - val_accuracy: 0.8729 - val_loss: 0.3765 - learning_rate: 0.0010\n",
      "Epoch 9/50\n",
      "\u001b[1m548/548\u001b[0m \u001b[32m━━━━━━━━━━━━━━━━━━━━\u001b[0m\u001b[37m\u001b[0m \u001b[1m41s\u001b[0m 58ms/step - accuracy: 0.8759 - loss: 0.2310 - val_accuracy: 0.8911 - val_loss: 0.2984 - learning_rate: 5.0000e-04\n",
      "Epoch 10/50\n",
      "\u001b[1m548/548\u001b[0m \u001b[32m━━━━━━━━━━━━━━━━━━━━\u001b[0m\u001b[37m\u001b[0m \u001b[1m35s\u001b[0m 63ms/step - accuracy: 0.8839 - loss: 0.2214 - val_accuracy: 0.8977 - val_loss: 0.2756 - learning_rate: 5.0000e-04\n",
      "Epoch 11/50\n",
      "\u001b[1m548/548\u001b[0m \u001b[32m━━━━━━━━━━━━━━━━━━━━\u001b[0m\u001b[37m\u001b[0m \u001b[1m35s\u001b[0m 63ms/step - accuracy: 0.8862 - loss: 0.2206 - val_accuracy: 0.9104 - val_loss: 0.2491 - learning_rate: 5.0000e-04\n",
      "Epoch 12/50\n",
      "\u001b[1m548/548\u001b[0m \u001b[32m━━━━━━━━━━━━━━━━━━━━\u001b[0m\u001b[37m\u001b[0m \u001b[1m34s\u001b[0m 62ms/step - accuracy: 0.8929 - loss: 0.1915 - val_accuracy: 0.9201 - val_loss: 0.2232 - learning_rate: 5.0000e-04\n",
      "Epoch 13/50\n",
      "\u001b[1m548/548\u001b[0m \u001b[32m━━━━━━━━━━━━━━━━━━━━\u001b[0m\u001b[37m\u001b[0m \u001b[1m33s\u001b[0m 60ms/step - accuracy: 0.8925 - loss: 0.2017 - val_accuracy: 0.9199 - val_loss: 0.2212 - learning_rate: 5.0000e-04\n",
      "Epoch 14/50\n",
      "\u001b[1m548/548\u001b[0m \u001b[32m━━━━━━━━━━━━━━━━━━━━\u001b[0m\u001b[37m\u001b[0m \u001b[1m35s\u001b[0m 63ms/step - accuracy: 0.9074 - loss: 0.1721 - val_accuracy: 0.9295 - val_loss: 0.1969 - learning_rate: 5.0000e-04\n",
      "Epoch 15/50\n",
      "\u001b[1m548/548\u001b[0m \u001b[32m━━━━━━━━━━━━━━━━━━━━\u001b[0m\u001b[37m\u001b[0m \u001b[1m36s\u001b[0m 65ms/step - accuracy: 0.9058 - loss: 0.1766 - val_accuracy: 0.9106 - val_loss: 0.2397 - learning_rate: 5.0000e-04\n",
      "Epoch 16/50\n",
      "\u001b[1m548/548\u001b[0m \u001b[32m━━━━━━━━━━━━━━━━━━━━\u001b[0m\u001b[37m\u001b[0m \u001b[1m34s\u001b[0m 62ms/step - accuracy: 0.9056 - loss: 0.1760 - val_accuracy: 0.9086 - val_loss: 0.2402 - learning_rate: 5.0000e-04\n",
      "Epoch 17/50\n",
      "\u001b[1m548/548\u001b[0m \u001b[32m━━━━━━━━━━━━━━━━━━━━\u001b[0m\u001b[37m\u001b[0m \u001b[1m32s\u001b[0m 58ms/step - accuracy: 0.8989 - loss: 0.1836 - val_accuracy: 0.9256 - val_loss: 0.1923 - learning_rate: 5.0000e-04\n",
      "Epoch 18/50\n",
      "\u001b[1m548/548\u001b[0m \u001b[32m━━━━━━━━━━━━━━━━━━━━\u001b[0m\u001b[37m\u001b[0m \u001b[1m32s\u001b[0m 59ms/step - accuracy: 0.9045 - loss: 0.1696 - val_accuracy: 0.9288 - val_loss: 0.1983 - learning_rate: 5.0000e-04\n",
      "Epoch 19/50\n",
      "\u001b[1m548/548\u001b[0m \u001b[32m━━━━━━━━━━━━━━━━━━━━\u001b[0m\u001b[37m\u001b[0m \u001b[1m33s\u001b[0m 60ms/step - accuracy: 0.9104 - loss: 0.1672 - val_accuracy: 0.9137 - val_loss: 0.2258 - learning_rate: 5.0000e-04\n",
      "Epoch 20/50\n",
      "\u001b[1m548/548\u001b[0m \u001b[32m━━━━━━━━━━━━━━━━━━━━\u001b[0m\u001b[37m\u001b[0m \u001b[1m30s\u001b[0m 55ms/step - accuracy: 0.9037 - loss: 0.1659 - val_accuracy: 0.9335 - val_loss: 0.1861 - learning_rate: 5.0000e-04\n",
      "Epoch 21/50\n",
      "\u001b[1m548/548\u001b[0m \u001b[32m━━━━━━━━━━━━━━━━━━━━\u001b[0m\u001b[37m\u001b[0m \u001b[1m33s\u001b[0m 60ms/step - accuracy: 0.9105 - loss: 0.1684 - val_accuracy: 0.9407 - val_loss: 0.1695 - learning_rate: 5.0000e-04\n",
      "Epoch 22/50\n",
      "\u001b[1m548/548\u001b[0m \u001b[32m━━━━━━━━━━━━━━━━━━━━\u001b[0m\u001b[37m\u001b[0m \u001b[1m32s\u001b[0m 58ms/step - accuracy: 0.9178 - loss: 0.1532 - val_accuracy: 0.9295 - val_loss: 0.1867 - learning_rate: 5.0000e-04\n",
      "Epoch 23/50\n",
      "\u001b[1m548/548\u001b[0m \u001b[32m━━━━━━━━━━━━━━━━━━━━\u001b[0m\u001b[37m\u001b[0m \u001b[1m31s\u001b[0m 57ms/step - accuracy: 0.9185 - loss: 0.1446 - val_accuracy: 0.9307 - val_loss: 0.1839 - learning_rate: 5.0000e-04\n",
      "Epoch 24/50\n",
      "\u001b[1m547/548\u001b[0m \u001b[32m━━━━━━━━━━━━━━━━━━━\u001b[0m\u001b[37m━\u001b[0m \u001b[1m0s\u001b[0m 52ms/step - accuracy: 0.9143 - loss: 0.1446\n",
      "Epoch 24: ReduceLROnPlateau reducing learning rate to 0.0002500000118743628.\n",
      "\u001b[1m548/548\u001b[0m \u001b[32m━━━━━━━━━━━━━━━━━━━━\u001b[0m\u001b[37m\u001b[0m \u001b[1m31s\u001b[0m 56ms/step - accuracy: 0.9143 - loss: 0.1446 - val_accuracy: 0.9355 - val_loss: 0.1716 - learning_rate: 5.0000e-04\n",
      "Epoch 25/50\n",
      "\u001b[1m548/548\u001b[0m \u001b[32m━━━━━━━━━━━━━━━━━━━━\u001b[0m\u001b[37m\u001b[0m \u001b[1m32s\u001b[0m 59ms/step - accuracy: 0.9233 - loss: 0.1368 - val_accuracy: 0.9357 - val_loss: 0.1669 - learning_rate: 2.5000e-04\n",
      "Epoch 26/50\n",
      "\u001b[1m548/548\u001b[0m \u001b[32m━━━━━━━━━━━━━━━━━━━━\u001b[0m\u001b[37m\u001b[0m \u001b[1m32s\u001b[0m 57ms/step - accuracy: 0.9265 - loss: 0.1343 - val_accuracy: 0.9392 - val_loss: 0.1643 - learning_rate: 2.5000e-04\n",
      "Epoch 27/50\n",
      "\u001b[1m548/548\u001b[0m \u001b[32m━━━━━━━━━━━━━━━━━━━━\u001b[0m\u001b[37m\u001b[0m \u001b[1m32s\u001b[0m 58ms/step - accuracy: 0.9235 - loss: 0.1283 - val_accuracy: 0.9255 - val_loss: 0.2001 - learning_rate: 2.5000e-04\n",
      "Epoch 28/50\n",
      "\u001b[1m548/548\u001b[0m \u001b[32m━━━━━━━━━━━━━━━━━━━━\u001b[0m\u001b[37m\u001b[0m \u001b[1m32s\u001b[0m 57ms/step - accuracy: 0.9218 - loss: 0.1305 - val_accuracy: 0.9344 - val_loss: 0.1725 - learning_rate: 2.5000e-04\n",
      "Epoch 29/50\n",
      "\u001b[1m547/548\u001b[0m \u001b[32m━━━━━━━━━━━━━━━━━━━\u001b[0m\u001b[37m━\u001b[0m \u001b[1m0s\u001b[0m 54ms/step - accuracy: 0.9205 - loss: 0.1373\n",
      "Epoch 29: ReduceLROnPlateau reducing learning rate to 0.0001250000059371814.\n",
      "\u001b[1m548/548\u001b[0m \u001b[32m━━━━━━━━━━━━━━━━━━━━\u001b[0m\u001b[37m\u001b[0m \u001b[1m32s\u001b[0m 58ms/step - accuracy: 0.9205 - loss: 0.1372 - val_accuracy: 0.9334 - val_loss: 0.1799 - learning_rate: 2.5000e-04\n",
      "Epoch 30/50\n",
      "\u001b[1m548/548\u001b[0m \u001b[32m━━━━━━━━━━━━━━━━━━━━\u001b[0m\u001b[37m\u001b[0m \u001b[1m33s\u001b[0m 60ms/step - accuracy: 0.9258 - loss: 0.1232 - val_accuracy: 0.9403 - val_loss: 0.1607 - learning_rate: 1.2500e-04\n",
      "Epoch 31/50\n",
      "\u001b[1m548/548\u001b[0m \u001b[32m━━━━━━━━━━━━━━━━━━━━\u001b[0m\u001b[37m\u001b[0m \u001b[1m33s\u001b[0m 61ms/step - accuracy: 0.9297 - loss: 0.1160 - val_accuracy: 0.9312 - val_loss: 0.1799 - learning_rate: 1.2500e-04\n",
      "Epoch 32/50\n",
      "\u001b[1m548/548\u001b[0m \u001b[32m━━━━━━━━━━━━━━━━━━━━\u001b[0m\u001b[37m\u001b[0m \u001b[1m31s\u001b[0m 57ms/step - accuracy: 0.9294 - loss: 0.1123 - val_accuracy: 0.9295 - val_loss: 0.1852 - learning_rate: 1.2500e-04\n",
      "Epoch 33/50\n",
      "\u001b[1m548/548\u001b[0m \u001b[32m━━━━━━━━━━━━━━━━━━━━\u001b[0m\u001b[37m\u001b[0m \u001b[1m42s\u001b[0m 60ms/step - accuracy: 0.9275 - loss: 0.1120 - val_accuracy: 0.9419 - val_loss: 0.1594 - learning_rate: 1.2500e-04\n",
      "Epoch 34/50\n",
      "\u001b[1m548/548\u001b[0m \u001b[32m━━━━━━━━━━━━━━━━━━━━\u001b[0m\u001b[37m\u001b[0m \u001b[1m32s\u001b[0m 59ms/step - accuracy: 0.9291 - loss: 0.1208 - val_accuracy: 0.9369 - val_loss: 0.1678 - learning_rate: 1.2500e-04\n",
      "Epoch 35/50\n",
      "\u001b[1m548/548\u001b[0m \u001b[32m━━━━━━━━━━━━━━━━━━━━\u001b[0m\u001b[37m\u001b[0m \u001b[1m40s\u001b[0m 58ms/step - accuracy: 0.9276 - loss: 0.1114 - val_accuracy: 0.9405 - val_loss: 0.1619 - learning_rate: 1.2500e-04\n",
      "Epoch 36/50\n",
      "\u001b[1m547/548\u001b[0m \u001b[32m━━━━━━━━━━━━━━━━━━━\u001b[0m\u001b[37m━\u001b[0m \u001b[1m0s\u001b[0m 55ms/step - accuracy: 0.9291 - loss: 0.1227\n",
      "Epoch 36: ReduceLROnPlateau reducing learning rate to 6.25000029685907e-05.\n",
      "\u001b[1m548/548\u001b[0m \u001b[32m━━━━━━━━━━━━━━━━━━━━\u001b[0m\u001b[37m\u001b[0m \u001b[1m33s\u001b[0m 59ms/step - accuracy: 0.9291 - loss: 0.1227 - val_accuracy: 0.9376 - val_loss: 0.1679 - learning_rate: 1.2500e-04\n",
      "Epoch 37/50\n",
      "\u001b[1m548/548\u001b[0m \u001b[32m━━━━━━━━━━━━━━━━━━━━\u001b[0m\u001b[37m\u001b[0m \u001b[1m33s\u001b[0m 60ms/step - accuracy: 0.9265 - loss: 0.1129 - val_accuracy: 0.9348 - val_loss: 0.1710 - learning_rate: 6.2500e-05\n",
      "Epoch 38/50\n",
      "\u001b[1m548/548\u001b[0m \u001b[32m━━━━━━━━━━━━━━━━━━━━\u001b[0m\u001b[37m\u001b[0m \u001b[1m34s\u001b[0m 62ms/step - accuracy: 0.9319 - loss: 0.1059 - val_accuracy: 0.9359 - val_loss: 0.1703 - learning_rate: 6.2500e-05\n"
     ]
    }
   ],
   "source": [
    "history = model.fit(\n",
    "    X_train_reshaped, \n",
    "    y_train,\n",
    "    epochs=50,\n",
    "    batch_size=128,\n",
    "    validation_data=(X_test_reshaped, y_test),\n",
    "    class_weight=class_weights_dict, \n",
    "    callbacks=callbacks_list\n",
    ")"
   ]
  },
  {
   "cell_type": "markdown",
   "id": "f403742a",
   "metadata": {},
   "source": [
    "### Step 9: Final Evaluation and Saving"
   ]
  },
  {
   "cell_type": "code",
   "execution_count": 26,
   "id": "88d079ef",
   "metadata": {},
   "outputs": [
    {
     "name": "stdout",
     "output_type": "stream",
     "text": [
      "\n",
      "--- Final Model Evaluation ---\n",
      "\u001b[1m548/548\u001b[0m \u001b[32m━━━━━━━━━━━━━━━━━━━━\u001b[0m\u001b[37m\u001b[0m \u001b[1m6s\u001b[0m 10ms/step - accuracy: 0.9410 - loss: 0.1591\n"
     ]
    },
    {
     "name": "stderr",
     "output_type": "stream",
     "text": [
      "WARNING:absl:You are saving your model as an HDF5 file via `model.save()` or `keras.saving.save_model(model)`. This file format is considered legacy. We recommend using instead the native Keras format, e.g. `model.save('my_model.keras')` or `keras.saving.save_model(model, 'my_model.keras')`. \n"
     ]
    },
    {
     "name": "stdout",
     "output_type": "stream",
     "text": [
      "Final Test Accuracy: 94.19%\n",
      "Final Test Loss: 0.1594\n",
      "\n",
      "Model saved as ecg_cnn_model_final.h5\n"
     ]
    }
   ],
   "source": [
    "print(\"\\n--- Final Model Evaluation ---\")\n",
    "loss, accuracy = model.evaluate(X_test_reshaped, y_test)\n",
    "\n",
    "print(f\"Final Test Accuracy: {accuracy*100:.2f}%\")\n",
    "print(f\"Final Test Loss: {loss:.4f}\")\n",
    "\n",
    "# Save the final, trained model\n",
    "model.save(\"ecg_cnn_model_final.h5\")\n",
    "print(\"\\nModel saved as ecg_cnn_model_final.h5\")"
   ]
  },
  {
   "cell_type": "code",
   "execution_count": null,
   "id": "d82c786e-5fb6-40cc-bf58-82dbd1edba4f",
   "metadata": {},
   "outputs": [],
   "source": []
  }
 ],
 "metadata": {
  "kernelspec": {
   "display_name": "Python [conda env:base] *",
   "language": "python",
   "name": "conda-base-py"
  },
  "language_info": {
   "codemirror_mode": {
    "name": "ipython",
    "version": 3
   },
   "file_extension": ".py",
   "mimetype": "text/x-python",
   "name": "python",
   "nbconvert_exporter": "python",
   "pygments_lexer": "ipython3",
   "version": "3.12.7"
  }
 },
 "nbformat": 4,
 "nbformat_minor": 5
}
